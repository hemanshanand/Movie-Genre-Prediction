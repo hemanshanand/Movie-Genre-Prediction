{
  "nbformat": 4,
  "nbformat_minor": 0,
  "metadata": {
    "colab": {
      "name": "MGP_4_Hyperparameter Optimization and Cross Validation.ipynb",
      "provenance": [],
      "machine_shape": "hm"
    },
    "kernelspec": {
      "name": "python3",
      "display_name": "Python 3"
    },
    "language_info": {
      "name": "python"
    }
  },
  "cells": [
    {
      "cell_type": "markdown",
      "metadata": {
        "id": "kFrsVJtQYGXb"
      },
      "source": [
        "# Movie Genre Prediction(MGP) using NLP\n",
        "*Hemansh Anand*\n",
        "\n",
        "---\n",
        "\n",
        "# Notebook 4: Hyperparameter Optimization and Cross Validation\n",
        "\n",
        "The main purpose of this notebook is to compare the results of previous experiments. After comparison, the top 2 models have been optimized using hyperparameters. Later the best model is cross validated and the best results are then discussed.\n",
        "\n",
        "**This notebook accomplishes three primary tasks:**\n",
        "\n",
        "1.   Fit and Export the best model.\n",
        "2.   Discuss the best results.\n",
        "3.   Evaluate the overall attempt and outcome.\n",
        "\n",
        "\n"
      ]
    },
    {
      "cell_type": "markdown",
      "metadata": {
        "id": "4h8TV6m3FNmT"
      },
      "source": [
        "### Import Libraraies"
      ]
    },
    {
      "cell_type": "code",
      "metadata": {
        "id": "OGwYAUi-bHXH"
      },
      "source": [
        "#import libraries\n",
        "import pandas as pd\n",
        "import numpy as np\n",
        "import json\n",
        "import nltk\n",
        "import re\n",
        "import csv\n",
        "import matplotlib.pyplot as plt \n",
        "import seaborn as sns\n",
        "from tqdm import tqdm\n",
        "import joblib\n",
        "\n",
        "from ast import literal_eval\n",
        "\n",
        "from sklearn.multiclass import OneVsRestClassifier\n",
        "from sklearn.svm import SVC\n",
        "from sklearn.naive_bayes import MultinomialNB\n",
        "from sklearn.linear_model import LogisticRegression\n",
        "from sklearn.linear_model import SGDClassifier\n",
        "\n",
        "from sklearn.model_selection import train_test_split\n",
        "from sklearn.model_selection import GridSearchCV\n",
        "\n",
        "from sklearn.feature_extraction.text import CountVectorizer\n",
        "from sklearn.feature_extraction.text import TfidfTransformer\n",
        "from sklearn.pipeline import Pipeline\n",
        "\n",
        "from sklearn.metrics import f1_score\n",
        "from sklearn.metrics import make_scorer\n",
        "from sklearn.metrics import classification_report, recall_score, precision_score\n",
        "from sklearn.metrics import average_precision_score\n",
        "from sklearn.metrics import precision_recall_curve\n",
        "from sklearn.metrics import multilabel_confusion_matrix\n",
        "from sklearn.metrics import confusion_matrix"
      ],
      "execution_count": null,
      "outputs": []
    },
    {
      "cell_type": "markdown",
      "metadata": {
        "id": "XLy6RPCc41nl"
      },
      "source": [
        "We will now compare the results of our first Experiment_Setup_1. We had experimented with two parameters for TF-IDF Vectorization which are given below:\n",
        "\n",
        "*   Variation 1 (min_df=0.005, max_df=)\n",
        "*   Variation 2 (min_df=20)\n",
        "\n",
        "Best models from both the Variations have been shortlisted and are presented here for comparison."
      ]
    },
    {
      "cell_type": "markdown",
      "metadata": {
        "id": "IFVQ3Ms3-h5a"
      },
      "source": [
        "Best model from Variation 1"
      ]
    },
    {
      "cell_type": "code",
      "metadata": {
        "colab": {
          "base_uri": "https://localhost:8080/",
          "height": 80
        },
        "id": "GqCzwapL3JeR",
        "outputId": "11901c84-7158-46ff-e034-955a2096d361"
      },
      "source": [
        "results_exp1_var1 = pd.read_csv('/content/drive/MyDrive/Colab Files/MGP/Results/TFIDF min max/Best_Result_min_max.csv', index_col=0)\n",
        "results_exp1_var1"
      ],
      "execution_count": null,
      "outputs": [
        {
          "output_type": "execute_result",
          "data": {
            "text/html": [
              "<div>\n",
              "<style scoped>\n",
              "    .dataframe tbody tr th:only-of-type {\n",
              "        vertical-align: middle;\n",
              "    }\n",
              "\n",
              "    .dataframe tbody tr th {\n",
              "        vertical-align: top;\n",
              "    }\n",
              "\n",
              "    .dataframe thead th {\n",
              "        text-align: right;\n",
              "    }\n",
              "</style>\n",
              "<table border=\"1\" class=\"dataframe\">\n",
              "  <thead>\n",
              "    <tr style=\"text-align: right;\">\n",
              "      <th></th>\n",
              "      <th>Test Precission Score</th>\n",
              "      <th>Test Recall Score</th>\n",
              "      <th>Test F1 Score</th>\n",
              "      <th>Train Precission Score</th>\n",
              "      <th>Train Recall Score</th>\n",
              "      <th>Train F1 Score</th>\n",
              "    </tr>\n",
              "  </thead>\n",
              "  <tbody>\n",
              "    <tr>\n",
              "      <th>Logistic Regression</th>\n",
              "      <td>0.677748</td>\n",
              "      <td>0.462405</td>\n",
              "      <td>0.530831</td>\n",
              "      <td>0.778086</td>\n",
              "      <td>0.526134</td>\n",
              "      <td>0.605359</td>\n",
              "    </tr>\n",
              "  </tbody>\n",
              "</table>\n",
              "</div>"
            ],
            "text/plain": [
              "                     Test Precission Score  ...  Train F1 Score\n",
              "Logistic Regression               0.677748  ...        0.605359\n",
              "\n",
              "[1 rows x 6 columns]"
            ]
          },
          "metadata": {
            "tags": []
          },
          "execution_count": 5
        }
      ]
    },
    {
      "cell_type": "markdown",
      "metadata": {
        "id": "ttStU86F_i1n"
      },
      "source": [
        "Best model from Experiment 1 Variation 2"
      ]
    },
    {
      "cell_type": "code",
      "metadata": {
        "colab": {
          "base_uri": "https://localhost:8080/",
          "height": 112
        },
        "id": "axrWchVb_mqc",
        "outputId": "014eeafa-2a59-45d6-c05b-7bf980852029"
      },
      "source": [
        "results_exp1_var2 = pd.read_csv('/content/drive/MyDrive/Colab Files/MGP/Results/TFIDF min_20/Best Results min_20.csv', index_col=0)\n",
        "results_exp1_var2"
      ],
      "execution_count": null,
      "outputs": [
        {
          "output_type": "execute_result",
          "data": {
            "text/html": [
              "<div>\n",
              "<style scoped>\n",
              "    .dataframe tbody tr th:only-of-type {\n",
              "        vertical-align: middle;\n",
              "    }\n",
              "\n",
              "    .dataframe tbody tr th {\n",
              "        vertical-align: top;\n",
              "    }\n",
              "\n",
              "    .dataframe thead th {\n",
              "        text-align: right;\n",
              "    }\n",
              "</style>\n",
              "<table border=\"1\" class=\"dataframe\">\n",
              "  <thead>\n",
              "    <tr style=\"text-align: right;\">\n",
              "      <th></th>\n",
              "      <th>Test Precission Score</th>\n",
              "      <th>Test Recall Score</th>\n",
              "      <th>Test F1 Score</th>\n",
              "      <th>Train Precission Score</th>\n",
              "      <th>Train Recall Score</th>\n",
              "      <th>Train F1 Score</th>\n",
              "    </tr>\n",
              "  </thead>\n",
              "  <tbody>\n",
              "    <tr>\n",
              "      <th>Logistic Regression</th>\n",
              "      <td>0.689100</td>\n",
              "      <td>0.490187</td>\n",
              "      <td>0.572868</td>\n",
              "      <td>0.869420</td>\n",
              "      <td>0.639843</td>\n",
              "      <td>0.737171</td>\n",
              "    </tr>\n",
              "    <tr>\n",
              "      <th>MNB</th>\n",
              "      <td>0.652473</td>\n",
              "      <td>0.532875</td>\n",
              "      <td>0.586641</td>\n",
              "      <td>0.724076</td>\n",
              "      <td>0.622284</td>\n",
              "      <td>0.669332</td>\n",
              "    </tr>\n",
              "  </tbody>\n",
              "</table>\n",
              "</div>"
            ],
            "text/plain": [
              "                     Test Precission Score  ...  Train F1 Score\n",
              "Logistic Regression               0.689100  ...        0.737171\n",
              "MNB                               0.652473  ...        0.669332\n",
              "\n",
              "[2 rows x 6 columns]"
            ]
          },
          "metadata": {
            "tags": []
          },
          "execution_count": 6
        }
      ]
    },
    {
      "cell_type": "markdown",
      "metadata": {
        "id": "caF1mHrdDYiz"
      },
      "source": [
        "After comparing the results from both the variations, it is clear that Experiment 1 Variation 2 has performed better. It is now time to perform some hyperparameter tuning to these two models to find out which one is superior and shall be used in our Movie Genre Prediction."
      ]
    },
    {
      "cell_type": "markdown",
      "metadata": {
        "id": "ut62AhZLBFO9"
      },
      "source": [
        "## Import the Dataset"
      ]
    },
    {
      "cell_type": "markdown",
      "metadata": {
        "id": "j58kOBD8Gt21"
      },
      "source": [
        "Importing Train and Test dataframes from the previous notebook."
      ]
    },
    {
      "cell_type": "code",
      "metadata": {
        "id": "A1aItXN6Gdgr"
      },
      "source": [
        "train = pd.read_csv('/content/drive/MyDrive/Colab Files/Movie Genre/Modified Datasets/train.csv', index_col=0)\n",
        "test = pd.read_csv('/content/drive/MyDrive/Colab Files/Movie Genre/Modified Datasets/test.csv', index_col=0)"
      ],
      "execution_count": null,
      "outputs": []
    },
    {
      "cell_type": "code",
      "metadata": {
        "colab": {
          "base_uri": "https://localhost:8080/",
          "height": 273
        },
        "id": "kjOdfv2jGvz5",
        "outputId": "ff546d6d-da67-4fe0-a4e3-a4f35580bf20"
      },
      "source": [
        "train.head()"
      ],
      "execution_count": null,
      "outputs": [
        {
          "output_type": "execute_result",
          "data": {
            "text/html": [
              "<div>\n",
              "<style scoped>\n",
              "    .dataframe tbody tr th:only-of-type {\n",
              "        vertical-align: middle;\n",
              "    }\n",
              "\n",
              "    .dataframe tbody tr th {\n",
              "        vertical-align: top;\n",
              "    }\n",
              "\n",
              "    .dataframe thead th {\n",
              "        text-align: right;\n",
              "    }\n",
              "</style>\n",
              "<table border=\"1\" class=\"dataframe\">\n",
              "  <thead>\n",
              "    <tr style=\"text-align: right;\">\n",
              "      <th></th>\n",
              "      <th>00</th>\n",
              "      <th>000</th>\n",
              "      <th>10</th>\n",
              "      <th>100</th>\n",
              "      <th>11</th>\n",
              "      <th>12</th>\n",
              "      <th>13</th>\n",
              "      <th>13th</th>\n",
              "      <th>14</th>\n",
              "      <th>15</th>\n",
              "      <th>16</th>\n",
              "      <th>17</th>\n",
              "      <th>17th</th>\n",
              "      <th>18</th>\n",
              "      <th>18th</th>\n",
              "      <th>19</th>\n",
              "      <th>1900</th>\n",
              "      <th>1920</th>\n",
              "      <th>1930</th>\n",
              "      <th>1936</th>\n",
              "      <th>1939</th>\n",
              "      <th>1940</th>\n",
              "      <th>1941</th>\n",
              "      <th>1942</th>\n",
              "      <th>1943</th>\n",
              "      <th>1944</th>\n",
              "      <th>1945</th>\n",
              "      <th>1950</th>\n",
              "      <th>1955</th>\n",
              "      <th>1959</th>\n",
              "      <th>1960</th>\n",
              "      <th>1962</th>\n",
              "      <th>1963</th>\n",
              "      <th>1964</th>\n",
              "      <th>1965</th>\n",
              "      <th>1966</th>\n",
              "      <th>1968</th>\n",
              "      <th>1969</th>\n",
              "      <th>1970</th>\n",
              "      <th>1971</th>\n",
              "      <th>...</th>\n",
              "      <th>yearn</th>\n",
              "      <th>yellow</th>\n",
              "      <th>yet</th>\n",
              "      <th>york</th>\n",
              "      <th>yorker</th>\n",
              "      <th>you</th>\n",
              "      <th>young</th>\n",
              "      <th>younger</th>\n",
              "      <th>youngest</th>\n",
              "      <th>youngster</th>\n",
              "      <th>youth</th>\n",
              "      <th>yu</th>\n",
              "      <th>yugoslavia</th>\n",
              "      <th>zealand</th>\n",
              "      <th>zero</th>\n",
              "      <th>zombi</th>\n",
              "      <th>zone</th>\n",
              "      <th>zoo</th>\n",
              "      <th>gen_action</th>\n",
              "      <th>gen_adventure</th>\n",
              "      <th>gen_animation</th>\n",
              "      <th>gen_biography</th>\n",
              "      <th>gen_comedy</th>\n",
              "      <th>gen_crime</th>\n",
              "      <th>gen_documentary</th>\n",
              "      <th>gen_drama</th>\n",
              "      <th>gen_family</th>\n",
              "      <th>gen_fantasy</th>\n",
              "      <th>gen_film-noir</th>\n",
              "      <th>gen_history</th>\n",
              "      <th>gen_horror</th>\n",
              "      <th>gen_music</th>\n",
              "      <th>gen_musical</th>\n",
              "      <th>gen_mystery</th>\n",
              "      <th>gen_romance</th>\n",
              "      <th>gen_sci-fi</th>\n",
              "      <th>gen_sport</th>\n",
              "      <th>gen_thriller</th>\n",
              "      <th>gen_war</th>\n",
              "      <th>gen_western</th>\n",
              "    </tr>\n",
              "  </thead>\n",
              "  <tbody>\n",
              "    <tr>\n",
              "      <th>0</th>\n",
              "      <td>0.0</td>\n",
              "      <td>0.0</td>\n",
              "      <td>0.0</td>\n",
              "      <td>0.0</td>\n",
              "      <td>0.0</td>\n",
              "      <td>0.0</td>\n",
              "      <td>0.0</td>\n",
              "      <td>0.0</td>\n",
              "      <td>0.0</td>\n",
              "      <td>0.0</td>\n",
              "      <td>0.0</td>\n",
              "      <td>0.0</td>\n",
              "      <td>0.0</td>\n",
              "      <td>0.0</td>\n",
              "      <td>0.0</td>\n",
              "      <td>0.0</td>\n",
              "      <td>0.0</td>\n",
              "      <td>0.0</td>\n",
              "      <td>0.0</td>\n",
              "      <td>0.0</td>\n",
              "      <td>0.0</td>\n",
              "      <td>0.0</td>\n",
              "      <td>0.0</td>\n",
              "      <td>0.0</td>\n",
              "      <td>0.0</td>\n",
              "      <td>0.000000</td>\n",
              "      <td>0.0</td>\n",
              "      <td>0.0</td>\n",
              "      <td>0.0</td>\n",
              "      <td>0.0</td>\n",
              "      <td>0.0</td>\n",
              "      <td>0.0</td>\n",
              "      <td>0.000000</td>\n",
              "      <td>0.0</td>\n",
              "      <td>0.0</td>\n",
              "      <td>0.0</td>\n",
              "      <td>0.0</td>\n",
              "      <td>0.0</td>\n",
              "      <td>0.0</td>\n",
              "      <td>0.0</td>\n",
              "      <td>...</td>\n",
              "      <td>0.0</td>\n",
              "      <td>0.0</td>\n",
              "      <td>0.0</td>\n",
              "      <td>0.0</td>\n",
              "      <td>0.0</td>\n",
              "      <td>0.0</td>\n",
              "      <td>0.000000</td>\n",
              "      <td>0.0</td>\n",
              "      <td>0.0</td>\n",
              "      <td>0.0</td>\n",
              "      <td>0.0</td>\n",
              "      <td>0.0</td>\n",
              "      <td>0.0</td>\n",
              "      <td>0.0</td>\n",
              "      <td>0.0</td>\n",
              "      <td>0.0</td>\n",
              "      <td>0.0</td>\n",
              "      <td>0.0</td>\n",
              "      <td>0</td>\n",
              "      <td>0</td>\n",
              "      <td>0</td>\n",
              "      <td>0</td>\n",
              "      <td>1</td>\n",
              "      <td>0</td>\n",
              "      <td>0</td>\n",
              "      <td>1</td>\n",
              "      <td>0</td>\n",
              "      <td>0</td>\n",
              "      <td>0</td>\n",
              "      <td>0</td>\n",
              "      <td>0</td>\n",
              "      <td>0</td>\n",
              "      <td>0</td>\n",
              "      <td>0</td>\n",
              "      <td>1</td>\n",
              "      <td>0</td>\n",
              "      <td>0</td>\n",
              "      <td>0</td>\n",
              "      <td>0</td>\n",
              "      <td>0</td>\n",
              "    </tr>\n",
              "    <tr>\n",
              "      <th>1</th>\n",
              "      <td>0.0</td>\n",
              "      <td>0.0</td>\n",
              "      <td>0.0</td>\n",
              "      <td>0.0</td>\n",
              "      <td>0.0</td>\n",
              "      <td>0.0</td>\n",
              "      <td>0.0</td>\n",
              "      <td>0.0</td>\n",
              "      <td>0.0</td>\n",
              "      <td>0.0</td>\n",
              "      <td>0.0</td>\n",
              "      <td>0.0</td>\n",
              "      <td>0.0</td>\n",
              "      <td>0.0</td>\n",
              "      <td>0.0</td>\n",
              "      <td>0.0</td>\n",
              "      <td>0.0</td>\n",
              "      <td>0.0</td>\n",
              "      <td>0.0</td>\n",
              "      <td>0.0</td>\n",
              "      <td>0.0</td>\n",
              "      <td>0.0</td>\n",
              "      <td>0.0</td>\n",
              "      <td>0.0</td>\n",
              "      <td>0.0</td>\n",
              "      <td>0.000000</td>\n",
              "      <td>0.0</td>\n",
              "      <td>0.0</td>\n",
              "      <td>0.0</td>\n",
              "      <td>0.0</td>\n",
              "      <td>0.0</td>\n",
              "      <td>0.0</td>\n",
              "      <td>0.000000</td>\n",
              "      <td>0.0</td>\n",
              "      <td>0.0</td>\n",
              "      <td>0.0</td>\n",
              "      <td>0.0</td>\n",
              "      <td>0.0</td>\n",
              "      <td>0.0</td>\n",
              "      <td>0.0</td>\n",
              "      <td>...</td>\n",
              "      <td>0.0</td>\n",
              "      <td>0.0</td>\n",
              "      <td>0.0</td>\n",
              "      <td>0.0</td>\n",
              "      <td>0.0</td>\n",
              "      <td>0.0</td>\n",
              "      <td>0.072327</td>\n",
              "      <td>0.0</td>\n",
              "      <td>0.0</td>\n",
              "      <td>0.0</td>\n",
              "      <td>0.0</td>\n",
              "      <td>0.0</td>\n",
              "      <td>0.0</td>\n",
              "      <td>0.0</td>\n",
              "      <td>0.0</td>\n",
              "      <td>0.0</td>\n",
              "      <td>0.0</td>\n",
              "      <td>0.0</td>\n",
              "      <td>0</td>\n",
              "      <td>0</td>\n",
              "      <td>0</td>\n",
              "      <td>0</td>\n",
              "      <td>1</td>\n",
              "      <td>0</td>\n",
              "      <td>0</td>\n",
              "      <td>0</td>\n",
              "      <td>0</td>\n",
              "      <td>0</td>\n",
              "      <td>0</td>\n",
              "      <td>0</td>\n",
              "      <td>0</td>\n",
              "      <td>0</td>\n",
              "      <td>0</td>\n",
              "      <td>0</td>\n",
              "      <td>0</td>\n",
              "      <td>0</td>\n",
              "      <td>0</td>\n",
              "      <td>1</td>\n",
              "      <td>0</td>\n",
              "      <td>0</td>\n",
              "    </tr>\n",
              "    <tr>\n",
              "      <th>2</th>\n",
              "      <td>0.0</td>\n",
              "      <td>0.0</td>\n",
              "      <td>0.0</td>\n",
              "      <td>0.0</td>\n",
              "      <td>0.0</td>\n",
              "      <td>0.0</td>\n",
              "      <td>0.0</td>\n",
              "      <td>0.0</td>\n",
              "      <td>0.0</td>\n",
              "      <td>0.0</td>\n",
              "      <td>0.0</td>\n",
              "      <td>0.0</td>\n",
              "      <td>0.0</td>\n",
              "      <td>0.0</td>\n",
              "      <td>0.0</td>\n",
              "      <td>0.0</td>\n",
              "      <td>0.0</td>\n",
              "      <td>0.0</td>\n",
              "      <td>0.0</td>\n",
              "      <td>0.0</td>\n",
              "      <td>0.0</td>\n",
              "      <td>0.0</td>\n",
              "      <td>0.0</td>\n",
              "      <td>0.0</td>\n",
              "      <td>0.0</td>\n",
              "      <td>0.269463</td>\n",
              "      <td>0.0</td>\n",
              "      <td>0.0</td>\n",
              "      <td>0.0</td>\n",
              "      <td>0.0</td>\n",
              "      <td>0.0</td>\n",
              "      <td>0.0</td>\n",
              "      <td>0.000000</td>\n",
              "      <td>0.0</td>\n",
              "      <td>0.0</td>\n",
              "      <td>0.0</td>\n",
              "      <td>0.0</td>\n",
              "      <td>0.0</td>\n",
              "      <td>0.0</td>\n",
              "      <td>0.0</td>\n",
              "      <td>...</td>\n",
              "      <td>0.0</td>\n",
              "      <td>0.0</td>\n",
              "      <td>0.0</td>\n",
              "      <td>0.0</td>\n",
              "      <td>0.0</td>\n",
              "      <td>0.0</td>\n",
              "      <td>0.000000</td>\n",
              "      <td>0.0</td>\n",
              "      <td>0.0</td>\n",
              "      <td>0.0</td>\n",
              "      <td>0.0</td>\n",
              "      <td>0.0</td>\n",
              "      <td>0.0</td>\n",
              "      <td>0.0</td>\n",
              "      <td>0.0</td>\n",
              "      <td>0.0</td>\n",
              "      <td>0.0</td>\n",
              "      <td>0.0</td>\n",
              "      <td>0</td>\n",
              "      <td>0</td>\n",
              "      <td>0</td>\n",
              "      <td>0</td>\n",
              "      <td>0</td>\n",
              "      <td>0</td>\n",
              "      <td>0</td>\n",
              "      <td>1</td>\n",
              "      <td>0</td>\n",
              "      <td>0</td>\n",
              "      <td>0</td>\n",
              "      <td>0</td>\n",
              "      <td>0</td>\n",
              "      <td>0</td>\n",
              "      <td>0</td>\n",
              "      <td>0</td>\n",
              "      <td>1</td>\n",
              "      <td>0</td>\n",
              "      <td>0</td>\n",
              "      <td>0</td>\n",
              "      <td>1</td>\n",
              "      <td>0</td>\n",
              "    </tr>\n",
              "    <tr>\n",
              "      <th>3</th>\n",
              "      <td>0.0</td>\n",
              "      <td>0.0</td>\n",
              "      <td>0.0</td>\n",
              "      <td>0.0</td>\n",
              "      <td>0.0</td>\n",
              "      <td>0.0</td>\n",
              "      <td>0.0</td>\n",
              "      <td>0.0</td>\n",
              "      <td>0.0</td>\n",
              "      <td>0.0</td>\n",
              "      <td>0.0</td>\n",
              "      <td>0.0</td>\n",
              "      <td>0.0</td>\n",
              "      <td>0.0</td>\n",
              "      <td>0.0</td>\n",
              "      <td>0.0</td>\n",
              "      <td>0.0</td>\n",
              "      <td>0.0</td>\n",
              "      <td>0.0</td>\n",
              "      <td>0.0</td>\n",
              "      <td>0.0</td>\n",
              "      <td>0.0</td>\n",
              "      <td>0.0</td>\n",
              "      <td>0.0</td>\n",
              "      <td>0.0</td>\n",
              "      <td>0.000000</td>\n",
              "      <td>0.0</td>\n",
              "      <td>0.0</td>\n",
              "      <td>0.0</td>\n",
              "      <td>0.0</td>\n",
              "      <td>0.0</td>\n",
              "      <td>0.0</td>\n",
              "      <td>0.132509</td>\n",
              "      <td>0.0</td>\n",
              "      <td>0.0</td>\n",
              "      <td>0.0</td>\n",
              "      <td>0.0</td>\n",
              "      <td>0.0</td>\n",
              "      <td>0.0</td>\n",
              "      <td>0.0</td>\n",
              "      <td>...</td>\n",
              "      <td>0.0</td>\n",
              "      <td>0.0</td>\n",
              "      <td>0.0</td>\n",
              "      <td>0.0</td>\n",
              "      <td>0.0</td>\n",
              "      <td>0.0</td>\n",
              "      <td>0.000000</td>\n",
              "      <td>0.0</td>\n",
              "      <td>0.0</td>\n",
              "      <td>0.0</td>\n",
              "      <td>0.0</td>\n",
              "      <td>0.0</td>\n",
              "      <td>0.0</td>\n",
              "      <td>0.0</td>\n",
              "      <td>0.0</td>\n",
              "      <td>0.0</td>\n",
              "      <td>0.0</td>\n",
              "      <td>0.0</td>\n",
              "      <td>0</td>\n",
              "      <td>0</td>\n",
              "      <td>0</td>\n",
              "      <td>0</td>\n",
              "      <td>0</td>\n",
              "      <td>0</td>\n",
              "      <td>0</td>\n",
              "      <td>1</td>\n",
              "      <td>0</td>\n",
              "      <td>0</td>\n",
              "      <td>0</td>\n",
              "      <td>0</td>\n",
              "      <td>0</td>\n",
              "      <td>0</td>\n",
              "      <td>0</td>\n",
              "      <td>0</td>\n",
              "      <td>0</td>\n",
              "      <td>0</td>\n",
              "      <td>0</td>\n",
              "      <td>0</td>\n",
              "      <td>0</td>\n",
              "      <td>0</td>\n",
              "    </tr>\n",
              "    <tr>\n",
              "      <th>4</th>\n",
              "      <td>0.0</td>\n",
              "      <td>0.0</td>\n",
              "      <td>0.0</td>\n",
              "      <td>0.0</td>\n",
              "      <td>0.0</td>\n",
              "      <td>0.0</td>\n",
              "      <td>0.0</td>\n",
              "      <td>0.0</td>\n",
              "      <td>0.0</td>\n",
              "      <td>0.0</td>\n",
              "      <td>0.0</td>\n",
              "      <td>0.0</td>\n",
              "      <td>0.0</td>\n",
              "      <td>0.0</td>\n",
              "      <td>0.0</td>\n",
              "      <td>0.0</td>\n",
              "      <td>0.0</td>\n",
              "      <td>0.0</td>\n",
              "      <td>0.0</td>\n",
              "      <td>0.0</td>\n",
              "      <td>0.0</td>\n",
              "      <td>0.0</td>\n",
              "      <td>0.0</td>\n",
              "      <td>0.0</td>\n",
              "      <td>0.0</td>\n",
              "      <td>0.000000</td>\n",
              "      <td>0.0</td>\n",
              "      <td>0.0</td>\n",
              "      <td>0.0</td>\n",
              "      <td>0.0</td>\n",
              "      <td>0.0</td>\n",
              "      <td>0.0</td>\n",
              "      <td>0.000000</td>\n",
              "      <td>0.0</td>\n",
              "      <td>0.0</td>\n",
              "      <td>0.0</td>\n",
              "      <td>0.0</td>\n",
              "      <td>0.0</td>\n",
              "      <td>0.0</td>\n",
              "      <td>0.0</td>\n",
              "      <td>...</td>\n",
              "      <td>0.0</td>\n",
              "      <td>0.0</td>\n",
              "      <td>0.0</td>\n",
              "      <td>0.0</td>\n",
              "      <td>0.0</td>\n",
              "      <td>0.0</td>\n",
              "      <td>0.000000</td>\n",
              "      <td>0.0</td>\n",
              "      <td>0.0</td>\n",
              "      <td>0.0</td>\n",
              "      <td>0.0</td>\n",
              "      <td>0.0</td>\n",
              "      <td>0.0</td>\n",
              "      <td>0.0</td>\n",
              "      <td>0.0</td>\n",
              "      <td>0.0</td>\n",
              "      <td>0.0</td>\n",
              "      <td>0.0</td>\n",
              "      <td>0</td>\n",
              "      <td>0</td>\n",
              "      <td>0</td>\n",
              "      <td>0</td>\n",
              "      <td>0</td>\n",
              "      <td>0</td>\n",
              "      <td>0</td>\n",
              "      <td>0</td>\n",
              "      <td>0</td>\n",
              "      <td>0</td>\n",
              "      <td>0</td>\n",
              "      <td>0</td>\n",
              "      <td>1</td>\n",
              "      <td>0</td>\n",
              "      <td>0</td>\n",
              "      <td>0</td>\n",
              "      <td>0</td>\n",
              "      <td>1</td>\n",
              "      <td>0</td>\n",
              "      <td>0</td>\n",
              "      <td>0</td>\n",
              "      <td>0</td>\n",
              "    </tr>\n",
              "  </tbody>\n",
              "</table>\n",
              "<p>5 rows × 5473 columns</p>\n",
              "</div>"
            ],
            "text/plain": [
              "    00  000   10  100  ...  gen_sport  gen_thriller  gen_war  gen_western\n",
              "0  0.0  0.0  0.0  0.0  ...          0             0        0            0\n",
              "1  0.0  0.0  0.0  0.0  ...          0             1        0            0\n",
              "2  0.0  0.0  0.0  0.0  ...          0             0        1            0\n",
              "3  0.0  0.0  0.0  0.0  ...          0             0        0            0\n",
              "4  0.0  0.0  0.0  0.0  ...          0             0        0            0\n",
              "\n",
              "[5 rows x 5473 columns]"
            ]
          },
          "metadata": {
            "tags": []
          },
          "execution_count": 3
        }
      ]
    },
    {
      "cell_type": "markdown",
      "metadata": {
        "id": "1A5hLlsKWp2Q"
      },
      "source": [
        "### Splitting Data into X and y\n",
        "\n",
        "\n",
        "\n",
        "* X contains the features\n",
        "*   y contains the genres\n",
        "\n"
      ]
    },
    {
      "cell_type": "code",
      "metadata": {
        "id": "HPa6GP6ZGFQF",
        "colab": {
          "base_uri": "https://localhost:8080/"
        },
        "outputId": "71a910a9-99db-4e3c-feb7-611af019c73a"
      },
      "source": [
        "cols = list(train.columns.values)\n",
        "genre_cols = cols[-22:]\n",
        "print(len(genre_cols))\n",
        "print(genre_cols)"
      ],
      "execution_count": null,
      "outputs": [
        {
          "output_type": "stream",
          "text": [
            "22\n",
            "['gen_action', 'gen_adventure', 'gen_animation', 'gen_biography', 'gen_comedy', 'gen_crime', 'gen_documentary', 'gen_drama', 'gen_family', 'gen_fantasy', 'gen_film-noir', 'gen_history', 'gen_horror', 'gen_music', 'gen_musical', 'gen_mystery', 'gen_romance', 'gen_sci-fi', 'gen_sport', 'gen_thriller', 'gen_war', 'gen_western']\n"
          ],
          "name": "stdout"
        }
      ]
    },
    {
      "cell_type": "code",
      "metadata": {
        "id": "WC8ij0yyh8ps"
      },
      "source": [
        "X_train = train[train.columns[~train.columns.isin(genre_cols)]]\n",
        "y_train = train[train.columns[ train.columns.isin(genre_cols)]]\n",
        "\n",
        "X_test = test[test.columns[~test.columns.isin(genre_cols)]]\n",
        "y_test = test[test.columns[ test.columns.isin(genre_cols)]]"
      ],
      "execution_count": null,
      "outputs": []
    },
    {
      "cell_type": "code",
      "metadata": {
        "colab": {
          "base_uri": "https://localhost:8080/"
        },
        "id": "Jw4RtyHsNleP",
        "outputId": "611350f7-df37-4a3f-da2e-146d9f47eed2"
      },
      "source": [
        "from sklearn.preprocessing import MinMaxScaler \n",
        "mima_scaler = MinMaxScaler().fit(X_train)\n",
        "X_train_mima = mima_scaler.transform(X_train)\n",
        "X_test_mima = mima_scaler.transform(X_test)\n",
        "\n",
        "joblib.dump(mima_scaler, '/content/drive/MyDrive/Colab Files/MGP/Trained Models/TFIDF_min_max/Scalers/mima_scaler.pkl')"
      ],
      "execution_count": null,
      "outputs": [
        {
          "output_type": "execute_result",
          "data": {
            "text/plain": [
              "['/content/drive/MyDrive/Colab Files/MGP/Trained Models/TFIDF_min_max/Scalers/mima_scaler.pkl']"
            ]
          },
          "metadata": {
            "tags": []
          },
          "execution_count": 6
        }
      ]
    },
    {
      "cell_type": "markdown",
      "metadata": {
        "id": "bleHwfiaAp7K"
      },
      "source": [
        "## Expermient 3 Hyperparameter Optimization\n",
        "\n",
        "*   Logistic Regression with c = [0.01, 0.1, 1]\n",
        "*   Multinomial Naive Bayes with alpha = [0.01, 0.1, 1]\n",
        "\n"
      ]
    },
    {
      "cell_type": "markdown",
      "metadata": {
        "id": "MAbLPdHQkS0Z"
      },
      "source": [
        "### Logistic Regression with c = [0.01, 0.1, 1]"
      ]
    },
    {
      "cell_type": "code",
      "metadata": {
        "id": "ol59V_mWXBB1",
        "colab": {
          "base_uri": "https://localhost:8080/"
        },
        "outputId": "a63fed45-09c3-472a-d907-0b52c0154fe7"
      },
      "source": [
        "c_val = [0.01, 0.1, 1]\n",
        "\n",
        "for c in c_val:\n",
        "    model_1 = OneVsRestClassifier(LogisticRegression(random_state=123, max_iter=3000, C=c, n_jobs=-1), n_jobs=-1).fit(X_train_mima, y_train)\n",
        "        \n",
        "    # export the model\n",
        "    joblib.dump(model_1, f'/content/drive/MyDrive/Colab Files/MGP/Trained Models/parameter tuning/legreg_mima_{c}.pkl')\n",
        "\n",
        "    # Make predictions\n",
        "    y_train_model_1 = model_1.predict(X_train_mima)\n",
        "    y_pred_model_1 = model_1.predict(X_test_mima)\n",
        "\n",
        "    from sklearn.metrics import classification_report, recall_score, precision_score, f1_score\n",
        "\n",
        "    # Recall Score\n",
        "    print(f'C:  {c}')\n",
        "    train_recall_score = recall_score(y_train, y_train_model_1, average='weighted')\n",
        "    test_recall_score = recall_score(y_test, y_pred_model_1, average='weighted')\n",
        "    print('Train Recall Score:',train_recall_score)\n",
        "    print('Test Recall Score:',test_recall_score)\n",
        "\n",
        "    # Precision Score\n",
        "    train_precision_score = precision_score(y_train, y_train_model_1, average='weighted')\n",
        "    test_precision_score = precision_score(y_test, y_pred_model_1, average='weighted')\n",
        "    print('Train Precision Score:',train_precision_score)\n",
        "    print('Test Precision Score:',test_precision_score)\n",
        "\n",
        "    # F1 Score\n",
        "    train_f1_score = f1_score(y_train, y_train_model_1, average='weighted')\n",
        "    print('Train F1 Score:',train_f1_score)\n",
        "    test_f1_score = f1_score(y_test, y_pred_model_1, average='weighted')\n",
        "    print('Test F1 Score:',test_f1_score)"
      ],
      "execution_count": null,
      "outputs": [
        {
          "output_type": "stream",
          "text": [
            "C:  0.01\n",
            "Train Recall Score: 0.20634973570559104\n",
            "Test Recall Score: 0.2001892807332138\n"
          ],
          "name": "stdout"
        },
        {
          "output_type": "stream",
          "text": [
            "/usr/local/lib/python3.7/dist-packages/sklearn/metrics/_classification.py:1272: UndefinedMetricWarning: Precision is ill-defined and being set to 0.0 in labels with no predicted samples. Use `zero_division` parameter to control this behavior.\n",
            "  _warn_prf(average, modifier, msg_start, len(result))\n"
          ],
          "name": "stderr"
        },
        {
          "output_type": "stream",
          "text": [
            "Train Precision Score: 0.5351997345963526\n",
            "Test Precision Score: 0.4354281120894809\n",
            "Train F1 Score: 0.18630677161001544\n",
            "Test F1 Score: 0.17880294856425905\n",
            "C:  0.1\n",
            "Train Recall Score: 0.4059795567857798\n",
            "Test Recall Score: 0.3671050009962144\n"
          ],
          "name": "stdout"
        },
        {
          "output_type": "stream",
          "text": [
            "/usr/local/lib/python3.7/dist-packages/sklearn/metrics/_classification.py:1272: UndefinedMetricWarning: Precision is ill-defined and being set to 0.0 in labels with no predicted samples. Use `zero_division` parameter to control this behavior.\n",
            "  _warn_prf(average, modifier, msg_start, len(result))\n"
          ],
          "name": "stderr"
        },
        {
          "output_type": "stream",
          "text": [
            "Train Precision Score: 0.8301835546790085\n",
            "Test Precision Score: 0.7587101351235627\n",
            "Train F1 Score: 0.4844188022924335\n",
            "Test F1 Score: 0.4393929814834858\n",
            "C:  1\n",
            "Train Recall Score: 0.6398425905854497\n",
            "Test Recall Score: 0.49018728830444314\n",
            "Train Precision Score: 0.8694203140770593\n",
            "Test Precision Score: 0.6891000561352323\n",
            "Train F1 Score: 0.7211126264442678\n",
            "Test F1 Score: 0.556423947353071\n"
          ],
          "name": "stdout"
        }
      ]
    },
    {
      "cell_type": "markdown",
      "metadata": {
        "id": "-7NQ_0LGkY6e"
      },
      "source": [
        "### Multinomial Naive Bayes with alpha = [0.01, 0.1, 1]"
      ]
    },
    {
      "cell_type": "code",
      "metadata": {
        "colab": {
          "base_uri": "https://localhost:8080/"
        },
        "id": "3gjntZp_5BHM",
        "outputId": "1bec93f4-2312-4856-ee9f-595765992566"
      },
      "source": [
        "a_val = [0.01, 0.1, 1]\n",
        "\n",
        "for a in a_val:\n",
        "    model_7 = OneVsRestClassifier(MultinomialNB(alpha=a), n_jobs=-1).fit(X_train_mima, y_train)\n",
        "    \n",
        "    # export the model\n",
        "    joblib.dump(model_7, f'/content/drive/MyDrive/Colab Files/Movie Genre/Final Trained Models/MNB/model_7_{a}.pkl')\n",
        "    \n",
        "    # Make predictions\n",
        "    y_train_model_7 = model_7.predict(X_train_mima)\n",
        "    y_pred_model_7 = model_7.predict(X_test_mima)\n",
        "\n",
        "    from sklearn.metrics import classification_report, recall_score, precision_score\n",
        "\n",
        "    train_recall_score = recall_score(y_train, y_train_model_7, average='weighted')\n",
        "    test_recall_score = recall_score(y_test, y_pred_model_7, average='weighted')\n",
        "    print(f'Alpha:  {a}')\n",
        "    print('Train Recall Score:',train_recall_score)\n",
        "    print('Test Recall Score:',test_recall_score)\n",
        "\n",
        "    train_precision_score = precision_score(y_train, y_train_model_7, average='weighted')\n",
        "    test_precision_score = precision_score(y_test, y_pred_model_7, average='weighted')\n",
        "    print('Train Precision Score:',train_precision_score)\n",
        "    print('Test Precision Score:',test_precision_score)\n",
        "    \n",
        "    # F1 Score\n",
        "    train_f1_score = f1_score(y_train, y_train_model_7, average='weighted')\n",
        "    print('Train F1 Score:',train_f1_score)\n",
        "\n",
        "    test_f1_score = f1_score(y_test, y_pred_model_7, average='weighted')\n",
        "    print('Test F1 Score:',test_f1_score)\n",
        "    \n"
      ],
      "execution_count": null,
      "outputs": [
        {
          "output_type": "stream",
          "text": [
            "Alpha:  0.01\n",
            "Train Recall Score: 0.6729252472028147\n",
            "Test Recall Score: 0.5346184498904164\n",
            "Train Precision Score: 0.7304812057913629\n",
            "Test Precision Score: 0.6457024044004941\n",
            "Train F1 Score: 0.6977081837684609\n",
            "Test F1 Score: 0.5751450907183039\n",
            "Alpha:  0.1\n",
            "Train Recall Score: 0.6694068799919961\n",
            "Test Recall Score: 0.5445805937437737\n",
            "Train Precision Score: 0.7249121807851051\n",
            "Test Precision Score: 0.6464274162821652\n",
            "Train F1 Score: 0.6929876705225838\n",
            "Test F1 Score: 0.5825155984904712\n",
            "Alpha:  1\n",
            "Train Recall Score: 0.622284103983592\n",
            "Test Recall Score: 0.5328750747160789\n",
            "Train Precision Score: 0.7240758473671053\n",
            "Test Precision Score: 0.6524731443418311\n",
            "Train F1 Score: 0.6590790049701707\n",
            "Test F1 Score: 0.5738608522714271\n",
            "CPU times: user 1min 31s, sys: 27.7 s, total: 1min 59s\n",
            "Wall time: 2min 28s\n"
          ],
          "name": "stdout"
        },
        {
          "output_type": "stream",
          "text": [
            "/usr/local/lib/python3.7/dist-packages/sklearn/metrics/_classification.py:1272: UndefinedMetricWarning: Precision is ill-defined and being set to 0.0 in labels with no predicted samples. Use `zero_division` parameter to control this behavior.\n",
            "  _warn_prf(average, modifier, msg_start, len(result))\n"
          ],
          "name": "stderr"
        }
      ]
    },
    {
      "cell_type": "markdown",
      "metadata": {
        "id": "JS2SvpJzkdmg"
      },
      "source": [
        "### Results"
      ]
    },
    {
      "cell_type": "code",
      "metadata": {
        "colab": {
          "base_uri": "https://localhost:8080/",
          "height": 338
        },
        "id": "nHlEFHkzfImq",
        "outputId": "839f5a7f-369c-4a4f-fa05-886f72be37c6"
      },
      "source": [
        "results_tuning = pd.read_csv('/content/drive/MyDrive/Colab Files/MGP/Results/After parameter tuning.csv', index_col=0)\n",
        "results_tuning"
      ],
      "execution_count": null,
      "outputs": [
        {
          "output_type": "execute_result",
          "data": {
            "text/html": [
              "<div>\n",
              "<style scoped>\n",
              "    .dataframe tbody tr th:only-of-type {\n",
              "        vertical-align: middle;\n",
              "    }\n",
              "\n",
              "    .dataframe tbody tr th {\n",
              "        vertical-align: top;\n",
              "    }\n",
              "\n",
              "    .dataframe thead th {\n",
              "        text-align: right;\n",
              "    }\n",
              "</style>\n",
              "<table border=\"1\" class=\"dataframe\">\n",
              "  <thead>\n",
              "    <tr style=\"text-align: right;\">\n",
              "      <th></th>\n",
              "      <th>Alpha/C</th>\n",
              "      <th>Test Precission Score</th>\n",
              "      <th>Test Recall Score</th>\n",
              "      <th>Test F1 Score</th>\n",
              "      <th>Train Precission Score</th>\n",
              "      <th>Train Recall Score</th>\n",
              "      <th>Train F1 Score</th>\n",
              "    </tr>\n",
              "    <tr>\n",
              "      <th>Classifier</th>\n",
              "      <th></th>\n",
              "      <th></th>\n",
              "      <th></th>\n",
              "      <th></th>\n",
              "      <th></th>\n",
              "      <th></th>\n",
              "      <th></th>\n",
              "    </tr>\n",
              "  </thead>\n",
              "  <tbody>\n",
              "    <tr>\n",
              "      <th>Logistic Regression</th>\n",
              "      <td>0.01</td>\n",
              "      <td>0.435428</td>\n",
              "      <td>0.200189</td>\n",
              "      <td>0.178803</td>\n",
              "      <td>0.535200</td>\n",
              "      <td>0.206350</td>\n",
              "      <td>0.186307</td>\n",
              "    </tr>\n",
              "    <tr>\n",
              "      <th>Logistic Regression</th>\n",
              "      <td>0.10</td>\n",
              "      <td>0.758710</td>\n",
              "      <td>0.367105</td>\n",
              "      <td>0.439393</td>\n",
              "      <td>0.830184</td>\n",
              "      <td>0.405980</td>\n",
              "      <td>0.484419</td>\n",
              "    </tr>\n",
              "    <tr>\n",
              "      <th>Logistic Regression</th>\n",
              "      <td>1.00</td>\n",
              "      <td>0.689100</td>\n",
              "      <td>0.490187</td>\n",
              "      <td>0.556424</td>\n",
              "      <td>0.869420</td>\n",
              "      <td>0.639843</td>\n",
              "      <td>0.721113</td>\n",
              "    </tr>\n",
              "    <tr>\n",
              "      <th>MultnimoialNB</th>\n",
              "      <td>0.01</td>\n",
              "      <td>0.645702</td>\n",
              "      <td>0.534618</td>\n",
              "      <td>0.575145</td>\n",
              "      <td>0.730481</td>\n",
              "      <td>0.672925</td>\n",
              "      <td>0.697708</td>\n",
              "    </tr>\n",
              "    <tr>\n",
              "      <th>MultnimoialNB</th>\n",
              "      <td>0.10</td>\n",
              "      <td>0.646427</td>\n",
              "      <td>0.544581</td>\n",
              "      <td>0.582516</td>\n",
              "      <td>0.724912</td>\n",
              "      <td>0.669407</td>\n",
              "      <td>0.692988</td>\n",
              "    </tr>\n",
              "    <tr>\n",
              "      <th>MultnimoialNB</th>\n",
              "      <td>1.00</td>\n",
              "      <td>0.652473</td>\n",
              "      <td>0.532875</td>\n",
              "      <td>0.573861</td>\n",
              "      <td>0.724076</td>\n",
              "      <td>0.622284</td>\n",
              "      <td>0.659079</td>\n",
              "    </tr>\n",
              "  </tbody>\n",
              "</table>\n",
              "</div>"
            ],
            "text/plain": [
              "                     Alpha/C  ...  Train F1 Score\n",
              "Classifier                    ...                \n",
              "Logistic Regression     0.01  ...        0.186307\n",
              "Logistic Regression     0.10  ...        0.484419\n",
              "Logistic Regression     1.00  ...        0.721113\n",
              "MultnimoialNB           0.01  ...        0.697708\n",
              "MultnimoialNB           0.10  ...        0.692988\n",
              "MultnimoialNB           1.00  ...        0.659079\n",
              "\n",
              "[6 rows x 7 columns]"
            ]
          },
          "metadata": {
            "tags": []
          },
          "execution_count": 11
        }
      ]
    },
    {
      "cell_type": "markdown",
      "metadata": {
        "id": "TF8Ofsz9gvN8"
      },
      "source": [
        "From the above results, it acn be seen that MultnimoialNB with alpha=0.10 performs the best. "
      ]
    },
    {
      "cell_type": "markdown",
      "metadata": {
        "id": "Led2eZvsEuQF"
      },
      "source": [
        "## Cross Validation"
      ]
    },
    {
      "cell_type": "markdown",
      "metadata": {
        "id": "Wo5tlLNDJc0l"
      },
      "source": [
        "### Multinomial Naive Bayes (alpha=0.10)"
      ]
    },
    {
      "cell_type": "code",
      "metadata": {
        "colab": {
          "base_uri": "https://localhost:8080/"
        },
        "id": "WjNJnFvPEKH6",
        "outputId": "769e5ccf-fbd1-4479-8fa7-e2f7434bb5af"
      },
      "source": [
        "from sklearn.model_selection import cross_val_score\n",
        "model_12 = OneVsRestClassifier(MultinomialNB(alpha=0.1), n_jobs=-1)\n",
        "\n",
        "scores = cross_val_score(model_12, X_train_mima, y_train, cv = 5)\n",
        "\n",
        "for i in range(len(scores)) :\n",
        "    print(f\"Fold {i+1}: {scores[i]}\")\n",
        "print(f\"The average score is :{np.mean(scores)}\")"
      ],
      "execution_count": null,
      "outputs": [
        {
          "output_type": "stream",
          "text": [
            "Fold 1: 0.1335700022187708\n",
            "Fold 2: 0.12250332889480692\n",
            "Fold 3: 0.13382157123834887\n",
            "Fold 4: 0.13559698180204172\n",
            "Fold 5: 0.12960497114957834\n",
            "The average score is :0.13101937106070932\n"
          ],
          "name": "stdout"
        }
      ]
    },
    {
      "cell_type": "code",
      "metadata": {
        "colab": {
          "base_uri": "https://localhost:8080/"
        },
        "id": "e_HuYKRHJwS7",
        "outputId": "fbeee40d-d643-48e0-ae93-9276d1904df4"
      },
      "source": [
        "model_12 = OneVsRestClassifier(MultinomialNB(alpha=0.1), n_jobs=-1).fit(X_train_mima, y_train)\n",
        "\n",
        "# export and save model\n",
        "joblib.dump(model_12, '/content/drive/MyDrive/Colab Files/Movie Genre/Final Trained Models/Cross Validated Models/MNB_0.1.pkl')"
      ],
      "execution_count": null,
      "outputs": [
        {
          "output_type": "execute_result",
          "data": {
            "text/plain": [
              "['/content/drive/MyDrive/Colab Files/Movie Genre/Final Trained Models/Cross Validated Models/MNB_0.1.pkl']"
            ]
          },
          "metadata": {
            "tags": []
          },
          "execution_count": 7
        }
      ]
    },
    {
      "cell_type": "markdown",
      "metadata": {
        "id": "3BbejXCb3Uyr"
      },
      "source": [
        "## Discussion of Best Results\n",
        "\n",
        "The measure of best results for this project is the highest F1 score on the test set. \n",
        "\n",
        "After experimenting with 4 Different Setups:\n",
        "\n",
        "\n",
        "1.   TF-IDF (two variations)\n",
        "2.   Scaling (two variations)\n",
        "3.   3 Different Classification Models\n",
        "4.   Hyper Parameter Tuning between the top 2 models\n",
        "\n",
        "I conclude that the best model is OneVsRest with Multnimoial  Naive Bayes using TF-IDF plot vectors (min_df=20) and Min Max Scaling. \n",
        "\n",
        "Yes, I had to retrain the model with different parameters during the experimentation.\n",
        "\n",
        "Below are the main conclusions:\n",
        "\n",
        "\n",
        "\n",
        "*   MultnimoialNB showed good accuracy rate. The lowest accuracy rate is around 70% and the highest accuracy rate is around 98%.\n",
        "*   MultnimoialNB is much faster to implement than other models and it is my preferred choice for deploying in the Movie Genre Prediction.\n",
        "\n"
      ]
    },
    {
      "cell_type": "code",
      "metadata": {
        "colab": {
          "base_uri": "https://localhost:8080/",
          "height": 690
        },
        "id": "mTFWcNXPLfRa",
        "outputId": "38b3f19f-c374-404d-c872-e28f49cacdba"
      },
      "source": [
        "plt.figure(figsize=(18,10))\n",
        "p1 =plt.bar(scores_df.Genres, height=scores_df.Scores)\n",
        "plt.xticks( rotation=90)\n",
        "# plt.title(\"Movies genre classification accuracy (multinomialNB VS LinearSVC)\")\n",
        "plt.ylabel('accuracy', fontsize=14)\n",
        "plt.xlabel('Movie genres', fontsize=14)\n",
        "# plt.legend(p1[0]), ('Scores'))\n",
        "plt.show()"
      ],
      "execution_count": null,
      "outputs": [
        {
          "output_type": "display_data",
          "data": {
            "image/png": "[encoded data removed]",
            "text/plain": [
              "<Figure size 1296x720 with 1 Axes>"
            ]
          },
          "metadata": {
            "tags": [],
            "needs_background": "light"
          }
        }
      ]
    },
    {
      "cell_type": "code",
      "metadata": {
        "id": "J__xL8H0LbA5"
      },
      "source": [
        "y_train_pred = model_12.predict(X_train_mima)\n",
        "y_test_pred = model_12.predict(X_test_mima)\n",
        "y_train_proba = model_12.predict_proba(X_train_mima)\n",
        "y_test_proba = model_12.predict_proba(X_test_mima)"
      ],
      "execution_count": null,
      "outputs": []
    },
    {
      "cell_type": "code",
      "metadata": {
        "colab": {
          "base_uri": "https://localhost:8080/"
        },
        "id": "xz1wPKIULpH6",
        "outputId": "9c742a78-363b-49b4-813a-b72efd9b3c75"
      },
      "source": [
        "from sklearn.metrics import accuracy_score, f1_score\n",
        "print(f'Training F1 score: {f1_score(y_train, y_train_pred,average=\"weighted\"):0.4f}')\n",
        "print(f'    Test F1 score: {f1_score(y_test, y_test_pred,average=\"weighted\"):0.4f}')\n",
        "print(f'Training Accuracy Score: {accuracy_score(y_train, y_train_pred):0.4f}')\n",
        "print(f'    Test Accuracy Score: {accuracy_score(y_test, y_test_pred):0.4f}')"
      ],
      "execution_count": null,
      "outputs": [
        {
          "output_type": "stream",
          "text": [
            "Training F1 score: 0.6930\n",
            "    Test F1 score: 0.5825\n",
            "Training Accuracy Score: 0.2189\n",
            "    Test Accuracy Score: 0.1373\n"
          ],
          "name": "stdout"
        }
      ]
    },
    {
      "cell_type": "markdown",
      "metadata": {
        "id": "2fZcNIVjcyRH"
      },
      "source": [
        "Confusion Matrix"
      ]
    },
    {
      "cell_type": "code",
      "metadata": {
        "colab": {
          "base_uri": "https://localhost:8080/"
        },
        "id": "Bw3kDluNr02K",
        "outputId": "9cdb5ebe-eb4c-4ccb-ee16-a1ce492b41e8"
      },
      "source": [
        "cmatrix = multilabel_confusion_matrix(y_test, y_test_pred)\n",
        "\n",
        "gen_cm_list = []\n",
        "for gen in cmatrix:\n",
        "    gen_cm_list.append(pd.DataFrame(gen, columns=[' Positive', ' Negative  '], index=['Positive','Negative']))\n",
        "    \n",
        "gen_cm_list[10].values"
      ],
      "execution_count": null,
      "outputs": [
        {
          "output_type": "execute_result",
          "data": {
            "text/plain": [
              "array([[7426,    4],\n",
              "       [  77,    4]])"
            ]
          },
          "metadata": {
            "tags": []
          },
          "execution_count": 24
        }
      ]
    },
    {
      "cell_type": "code",
      "metadata": {
        "id": "xAq7wlLk8WQ6"
      },
      "source": [
        "cf_matrix=gen_cm_list[10].values"
      ],
      "execution_count": null,
      "outputs": []
    },
    {
      "cell_type": "code",
      "metadata": {
        "colab": {
          "base_uri": "https://localhost:8080/"
        },
        "id": "Jlgo-C7uLz8Y",
        "outputId": "440c6d5e-d403-4f32-8565-abbb1585287b"
      },
      "source": [
        "y_pred_df = pd.DataFrame(y_test_pred, columns=genre_cols)\n",
        "score=[]\n",
        "# Test set predictions\n",
        "for gen in genre_cols:\n",
        "    score.append([accuracy_score(y_test[gen], y_pred_df[gen])])\n",
        "print(score)"
      ],
      "execution_count": null,
      "outputs": [
        {
          "output_type": "stream",
          "text": [
            "[[0.8576754093995473], [0.8945546531753429], [0.9640527226734124], [0.9428837704699774], [0.7595526561043803], [0.8763147383837039], [0.968845692983624], [0.7085607775262948], [0.9440820130475303], [0.9298362401810678], [0.9892158168020238], [0.9487418452935694], [0.919185195047264], [0.9471441885234989], [0.9696445213686593], [0.9101318066835308], [0.8092131540407402], [0.940354147250699], [0.9781653574757023], [0.8081480495273599], [0.9628544800958594], [0.9868193316469178]]\n"
          ],
          "name": "stdout"
        }
      ]
    },
    {
      "cell_type": "code",
      "metadata": {
        "id": "7V0VLvav27SE"
      },
      "source": [
        "scores_df = pd.DataFrame.from_records(score)\n",
        "gen_df = pd.DataFrame({'Genre':genre_cols})"
      ],
      "execution_count": null,
      "outputs": []
    },
    {
      "cell_type": "code",
      "metadata": {
        "id": "-q_KoGx3KFEL"
      },
      "source": [
        "scores_df.insert(1,\"Genre\",genre_cols,True)"
      ],
      "execution_count": null,
      "outputs": []
    },
    {
      "cell_type": "code",
      "metadata": {
        "colab": {
          "base_uri": "https://localhost:8080/",
          "height": 739
        },
        "id": "K93vCGSJKWSQ",
        "outputId": "54b6e55b-c74a-4826-ef7c-06d95b9a792f"
      },
      "source": [
        "scores_df.columns = ['Scores', 'Genres']\n",
        "scores_df"
      ],
      "execution_count": null,
      "outputs": [
        {
          "output_type": "execute_result",
          "data": {
            "text/html": [
              "<div>\n",
              "<style scoped>\n",
              "    .dataframe tbody tr th:only-of-type {\n",
              "        vertical-align: middle;\n",
              "    }\n",
              "\n",
              "    .dataframe tbody tr th {\n",
              "        vertical-align: top;\n",
              "    }\n",
              "\n",
              "    .dataframe thead th {\n",
              "        text-align: right;\n",
              "    }\n",
              "</style>\n",
              "<table border=\"1\" class=\"dataframe\">\n",
              "  <thead>\n",
              "    <tr style=\"text-align: right;\">\n",
              "      <th></th>\n",
              "      <th>Scores</th>\n",
              "      <th>Genres</th>\n",
              "    </tr>\n",
              "  </thead>\n",
              "  <tbody>\n",
              "    <tr>\n",
              "      <th>0</th>\n",
              "      <td>0.857675</td>\n",
              "      <td>gen_action</td>\n",
              "    </tr>\n",
              "    <tr>\n",
              "      <th>1</th>\n",
              "      <td>0.894555</td>\n",
              "      <td>gen_adventure</td>\n",
              "    </tr>\n",
              "    <tr>\n",
              "      <th>2</th>\n",
              "      <td>0.964053</td>\n",
              "      <td>gen_animation</td>\n",
              "    </tr>\n",
              "    <tr>\n",
              "      <th>3</th>\n",
              "      <td>0.942884</td>\n",
              "      <td>gen_biography</td>\n",
              "    </tr>\n",
              "    <tr>\n",
              "      <th>4</th>\n",
              "      <td>0.759553</td>\n",
              "      <td>gen_comedy</td>\n",
              "    </tr>\n",
              "    <tr>\n",
              "      <th>5</th>\n",
              "      <td>0.876315</td>\n",
              "      <td>gen_crime</td>\n",
              "    </tr>\n",
              "    <tr>\n",
              "      <th>6</th>\n",
              "      <td>0.968846</td>\n",
              "      <td>gen_documentary</td>\n",
              "    </tr>\n",
              "    <tr>\n",
              "      <th>7</th>\n",
              "      <td>0.708561</td>\n",
              "      <td>gen_drama</td>\n",
              "    </tr>\n",
              "    <tr>\n",
              "      <th>8</th>\n",
              "      <td>0.944082</td>\n",
              "      <td>gen_family</td>\n",
              "    </tr>\n",
              "    <tr>\n",
              "      <th>9</th>\n",
              "      <td>0.929836</td>\n",
              "      <td>gen_fantasy</td>\n",
              "    </tr>\n",
              "    <tr>\n",
              "      <th>10</th>\n",
              "      <td>0.989216</td>\n",
              "      <td>gen_film-noir</td>\n",
              "    </tr>\n",
              "    <tr>\n",
              "      <th>11</th>\n",
              "      <td>0.948742</td>\n",
              "      <td>gen_history</td>\n",
              "    </tr>\n",
              "    <tr>\n",
              "      <th>12</th>\n",
              "      <td>0.919185</td>\n",
              "      <td>gen_horror</td>\n",
              "    </tr>\n",
              "    <tr>\n",
              "      <th>13</th>\n",
              "      <td>0.947144</td>\n",
              "      <td>gen_music</td>\n",
              "    </tr>\n",
              "    <tr>\n",
              "      <th>14</th>\n",
              "      <td>0.969645</td>\n",
              "      <td>gen_musical</td>\n",
              "    </tr>\n",
              "    <tr>\n",
              "      <th>15</th>\n",
              "      <td>0.910132</td>\n",
              "      <td>gen_mystery</td>\n",
              "    </tr>\n",
              "    <tr>\n",
              "      <th>16</th>\n",
              "      <td>0.809213</td>\n",
              "      <td>gen_romance</td>\n",
              "    </tr>\n",
              "    <tr>\n",
              "      <th>17</th>\n",
              "      <td>0.940354</td>\n",
              "      <td>gen_sci-fi</td>\n",
              "    </tr>\n",
              "    <tr>\n",
              "      <th>18</th>\n",
              "      <td>0.978165</td>\n",
              "      <td>gen_sport</td>\n",
              "    </tr>\n",
              "    <tr>\n",
              "      <th>19</th>\n",
              "      <td>0.808148</td>\n",
              "      <td>gen_thriller</td>\n",
              "    </tr>\n",
              "    <tr>\n",
              "      <th>20</th>\n",
              "      <td>0.962854</td>\n",
              "      <td>gen_war</td>\n",
              "    </tr>\n",
              "    <tr>\n",
              "      <th>21</th>\n",
              "      <td>0.986819</td>\n",
              "      <td>gen_western</td>\n",
              "    </tr>\n",
              "  </tbody>\n",
              "</table>\n",
              "</div>"
            ],
            "text/plain": [
              "      Scores           Genres\n",
              "0   0.857675       gen_action\n",
              "1   0.894555    gen_adventure\n",
              "2   0.964053    gen_animation\n",
              "3   0.942884    gen_biography\n",
              "4   0.759553       gen_comedy\n",
              "5   0.876315        gen_crime\n",
              "6   0.968846  gen_documentary\n",
              "7   0.708561        gen_drama\n",
              "8   0.944082       gen_family\n",
              "9   0.929836      gen_fantasy\n",
              "10  0.989216    gen_film-noir\n",
              "11  0.948742      gen_history\n",
              "12  0.919185       gen_horror\n",
              "13  0.947144        gen_music\n",
              "14  0.969645      gen_musical\n",
              "15  0.910132      gen_mystery\n",
              "16  0.809213      gen_romance\n",
              "17  0.940354       gen_sci-fi\n",
              "18  0.978165        gen_sport\n",
              "19  0.808148     gen_thriller\n",
              "20  0.962854          gen_war\n",
              "21  0.986819      gen_western"
            ]
          },
          "metadata": {
            "tags": []
          },
          "execution_count": 56
        }
      ]
    },
    {
      "cell_type": "markdown",
      "metadata": {
        "id": "_dbo3S0td0bB"
      },
      "source": [
        "We now take a closer look at the complete classification report for each genre in this model."
      ]
    },
    {
      "cell_type": "code",
      "metadata": {
        "colab": {
          "base_uri": "https://localhost:8080/"
        },
        "id": "WM_2u8Obz2fp",
        "outputId": "8b3920df-c59a-4b2a-c7bb-7bc3b2d5d093"
      },
      "source": [
        "from sklearn.metrics import classification_report\n",
        "test_classification_report= classification_report(y_test, y_test_pred, target_names=genre_cols)\n",
        "train_classification_report= classification_report(y_train, y_train_pred, target_names=genre_cols)\n",
        "print(train_classification_report)\n",
        "print(test_classification_report)"
      ],
      "execution_count": null,
      "outputs": [
        {
          "output_type": "stream",
          "text": [
            "                 precision    recall  f1-score   support\n",
            "\n",
            "     gen_action       0.69      0.67      0.68      4086\n",
            "  gen_adventure       0.63      0.59      0.61      2477\n",
            "  gen_animation       0.68      0.60      0.64       733\n",
            "  gen_biography       0.63      0.57      0.60      1207\n",
            "     gen_comedy       0.72      0.68      0.70      7861\n",
            "      gen_crime       0.71      0.61      0.65      3710\n",
            "gen_documentary       0.75      0.81      0.78       976\n",
            "      gen_drama       0.77      0.81      0.79     12611\n",
            "     gen_family       0.80      0.49      0.60      1363\n",
            "    gen_fantasy       0.69      0.50      0.58      1790\n",
            "  gen_film-noir       0.89      0.78      0.83       230\n",
            "    gen_history       0.61      0.66      0.63      1052\n",
            "     gen_horror       0.79      0.72      0.75      3013\n",
            "      gen_music       0.81      0.52      0.63      1375\n",
            "    gen_musical       0.84      0.51      0.63       647\n",
            "    gen_mystery       0.66      0.47      0.55      2090\n",
            "    gen_romance       0.66      0.59      0.62      5032\n",
            "     gen_sci-fi       0.76      0.71      0.73      1860\n",
            "      gen_sport       0.88      0.82      0.84       575\n",
            "   gen_thriller       0.70      0.62      0.66      5667\n",
            "        gen_war       0.73      0.76      0.75      1109\n",
            "    gen_western       0.91      0.82      0.87       507\n",
            "\n",
            "      micro avg       0.73      0.67      0.70     59971\n",
            "      macro avg       0.74      0.65      0.69     59971\n",
            "   weighted avg       0.72      0.67      0.69     59971\n",
            "    samples avg       0.74      0.71      0.68     59971\n",
            "\n",
            "                 precision    recall  f1-score   support\n",
            "\n",
            "     gen_action       0.63      0.57      0.60      1404\n",
            "  gen_adventure       0.55      0.43      0.48       862\n",
            "  gen_animation       0.37      0.24      0.29       232\n",
            "  gen_biography       0.44      0.32      0.37       392\n",
            "     gen_comedy       0.68      0.62      0.65      2702\n",
            "      gen_crime       0.65      0.50      0.56      1208\n",
            "gen_documentary       0.70      0.61      0.65       357\n",
            "      gen_drama       0.72      0.77      0.75      4137\n",
            "     gen_family       0.58      0.21      0.31       446\n",
            "    gen_fantasy       0.55      0.34      0.42       564\n",
            "  gen_film-noir       0.50      0.05      0.09        81\n",
            "    gen_history       0.41      0.38      0.40       330\n",
            "     gen_horror       0.76      0.59      0.67      1019\n",
            "      gen_music       0.73      0.31      0.44       494\n",
            "    gen_musical       0.49      0.09      0.15       227\n",
            "    gen_mystery       0.51      0.28      0.36       686\n",
            "    gen_romance       0.60      0.48      0.53      1699\n",
            "     gen_sci-fi       0.66      0.55      0.60       617\n",
            "      gen_sport       0.75      0.37      0.50       219\n",
            "   gen_thriller       0.63      0.54      0.58      1847\n",
            "        gen_war       0.66      0.56      0.61       384\n",
            "    gen_western       0.86      0.49      0.63       169\n",
            "\n",
            "      micro avg       0.65      0.54      0.59     20076\n",
            "      macro avg       0.61      0.42      0.48     20076\n",
            "   weighted avg       0.65      0.54      0.58     20076\n",
            "    samples avg       0.67      0.60      0.58     20076\n",
            "\n"
          ],
          "name": "stdout"
        },
        {
          "output_type": "stream",
          "text": [
            "/usr/local/lib/python3.7/dist-packages/sklearn/metrics/_classification.py:1272: UndefinedMetricWarning: Precision and F-score are ill-defined and being set to 0.0 in samples with no predicted labels. Use `zero_division` parameter to control this behavior.\n",
            "  _warn_prf(average, modifier, msg_start, len(result))\n"
          ],
          "name": "stderr"
        }
      ]
    },
    {
      "cell_type": "markdown",
      "metadata": {
        "id": "WiSzslrLiNpn"
      },
      "source": [
        "# Evaluation of Overall Attempt and Outcome\n",
        "\n",
        "Yes, the orignal problem has been solved. The goals mentioned in the problem statement(Notebook 1) have been achieved.\n",
        "\n",
        "Finally our model is now ready with a good F1 Score of 0.58\n",
        "\n",
        "It's time to export the model and move to the next stage of deployment."
      ]
    },
    {
      "cell_type": "markdown",
      "metadata": {
        "id": "LOPfWeivnaj9"
      },
      "source": [
        "# Export and Saving the model"
      ]
    },
    {
      "cell_type": "code",
      "metadata": {
        "colab": {
          "base_uri": "https://localhost:8080/"
        },
        "id": "GMJXpYmTl-wk",
        "outputId": "bb353598-8c51-470e-8af9-ee19d54cb706"
      },
      "source": [
        "final_model = OneVsRestClassifier(MultinomialNB(alpha=0.10), n_jobs=-1).fit(X_train_mima, y_train)\n",
        "\n",
        "# export and save the model for later use\n",
        "joblib.dump(final_model, '/content/drive/MyDrive/Colab Files/MGP/Final Model/final_model_MNB_0.10.pkl')"
      ],
      "execution_count": null,
      "outputs": [
        {
          "output_type": "execute_result",
          "data": {
            "text/plain": [
              "['/content/drive/MyDrive/Colab Files/MGP/Final Model/final_model_MNB_0.10.pkl']"
            ]
          },
          "metadata": {
            "tags": []
          },
          "execution_count": 12
        }
      ]
    }
  ]
}